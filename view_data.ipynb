{
 "cells": [
  {
   "cell_type": "code",
   "execution_count": 2,
   "id": "d3a13312-7180-4b88-b38e-42a077f66fc0",
   "metadata": {},
   "outputs": [],
   "source": [
    "import pandas as pd"
   ]
  },
  {
   "cell_type": "markdown",
   "id": "aef1e9f7-97ba-457c-92d4-371a51d126f5",
   "metadata": {},
   "source": [
    "## Изменить кодировку файла"
   ]
  },
  {
   "cell_type": "code",
   "execution_count": 25,
   "id": "801c915a-e05f-4b96-b394-3c811205d479",
   "metadata": {},
   "outputs": [],
   "source": [
    "import csv\n",
    "import codecs\n",
    "\n",
    "def convert_csv_to_utf8(input_path, output_path):\n",
    "    # Read the CSV file\n",
    "    with open(input_path, \"r\", encoding=\"windows-1251\") as infile:\n",
    "        data = csv.reader(infile)\n",
    "        rows = list(data)\n",
    "    \n",
    "    # Write the contents into another CSV file with UTF-8 encoding\n",
    "    with codecs.open(output_path, \"w\", encoding=\"utf-8\", errors=\"ignore\") as outfile:\n",
    "        writer = csv.writer(outfile)\n",
    "        writer.writerows(rows)\n",
    "\n",
    "# Call the convert_csv_to_utf8 function to convert the input CSV\n",
    "input_csv = \"test data.csv\"\n",
    "output_csv = \"test_data_utf8.csv\"\n",
    "convert_csv_to_utf8(input_csv, output_csv)"
   ]
  },
  {
   "cell_type": "markdown",
   "id": "ff086032-ce70-40bf-8a38-56373d5c62bb",
   "metadata": {},
   "source": [
    "## Отчистить файл от лишних кавычек"
   ]
  },
  {
   "cell_type": "code",
   "execution_count": 37,
   "id": "a76b2a31-7d00-47e9-9ba2-e4fc9985b210",
   "metadata": {},
   "outputs": [],
   "source": [
    "import csv\n",
    "\n",
    "input_file = 'test_data_utf8.csv'\n",
    "output_file = 'test_data_clean.csv'\n",
    "\n",
    "with open(input_file, 'r') as csv_input, open(output_file, 'w', newline='') as csv_output:\n",
    "    reader = csv.reader(csv_input)\n",
    "    writer = csv.writer(csv_output, quoting=csv.QUOTE_NONE, escapechar=' ')\n",
    "\n",
    "    for row in reader:\n",
    "        modified_row = [value.replace('\"', '') for value in row]  # Remove extra quotes using replace()\n",
    "        writer.writerow(modified_row)"
   ]
  },
  {
   "cell_type": "code",
   "execution_count": 3,
   "id": "7a3f167b-05a6-4400-966e-e4a68260d19d",
   "metadata": {},
   "outputs": [
    {
     "data": {
      "text/html": [
       "<div>\n",
       "<style scoped>\n",
       "    .dataframe tbody tr th:only-of-type {\n",
       "        vertical-align: middle;\n",
       "    }\n",
       "\n",
       "    .dataframe tbody tr th {\n",
       "        vertical-align: top;\n",
       "    }\n",
       "\n",
       "    .dataframe thead th {\n",
       "        text-align: right;\n",
       "    }\n",
       "</style>\n",
       "<table border=\"1\" class=\"dataframe\">\n",
       "  <thead>\n",
       "    <tr style=\"text-align: right;\">\n",
       "      <th></th>\n",
       "      <th>Week</th>\n",
       "      <th>Date</th>\n",
       "      <th>Event_Count</th>\n",
       "      <th>FederalDistrict_Name</th>\n",
       "      <th>Event_Name</th>\n",
       "    </tr>\n",
       "  </thead>\n",
       "  <tbody>\n",
       "    <tr>\n",
       "      <th>0</th>\n",
       "      <td>18</td>\n",
       "      <td>2018-05-01  00:00:00</td>\n",
       "      <td>117</td>\n",
       "      <td>Central</td>\n",
       "      <td>Регистрация  пользователя</td>\n",
       "    </tr>\n",
       "    <tr>\n",
       "      <th>1</th>\n",
       "      <td>18</td>\n",
       "      <td>2018-05-01  00:00:00</td>\n",
       "      <td>1</td>\n",
       "      <td>Far  Eastern</td>\n",
       "      <td>Регистрация  пользователя</td>\n",
       "    </tr>\n",
       "    <tr>\n",
       "      <th>2</th>\n",
       "      <td>18</td>\n",
       "      <td>2018-05-01  00:00:00</td>\n",
       "      <td>10</td>\n",
       "      <td>North  Caucasian</td>\n",
       "      <td>Регистрация  пользователя</td>\n",
       "    </tr>\n",
       "    <tr>\n",
       "      <th>3</th>\n",
       "      <td>18</td>\n",
       "      <td>2018-05-01  00:00:00</td>\n",
       "      <td>20</td>\n",
       "      <td>Northwestern</td>\n",
       "      <td>Регистрация  пользователя</td>\n",
       "    </tr>\n",
       "    <tr>\n",
       "      <th>4</th>\n",
       "      <td>18</td>\n",
       "      <td>2018-05-01  00:00:00</td>\n",
       "      <td>5</td>\n",
       "      <td>Siberian</td>\n",
       "      <td>Регистрация  пользователя</td>\n",
       "    </tr>\n",
       "    <tr>\n",
       "      <th>...</th>\n",
       "      <td>...</td>\n",
       "      <td>...</td>\n",
       "      <td>...</td>\n",
       "      <td>...</td>\n",
       "      <td>...</td>\n",
       "    </tr>\n",
       "    <tr>\n",
       "      <th>658</th>\n",
       "      <td>23</td>\n",
       "      <td>2018-06-07  00:00:00</td>\n",
       "      <td>149</td>\n",
       "      <td>Siberian</td>\n",
       "      <td>Активация  кода</td>\n",
       "    </tr>\n",
       "    <tr>\n",
       "      <th>659</th>\n",
       "      <td>23</td>\n",
       "      <td>2018-06-07  00:00:00</td>\n",
       "      <td>170</td>\n",
       "      <td>Southern</td>\n",
       "      <td>Активация  кода</td>\n",
       "    </tr>\n",
       "    <tr>\n",
       "      <th>660</th>\n",
       "      <td>23</td>\n",
       "      <td>2018-06-07  00:00:00</td>\n",
       "      <td>14</td>\n",
       "      <td>Undefined</td>\n",
       "      <td>Активация  кода</td>\n",
       "    </tr>\n",
       "    <tr>\n",
       "      <th>661</th>\n",
       "      <td>23</td>\n",
       "      <td>2018-06-07  00:00:00</td>\n",
       "      <td>138</td>\n",
       "      <td>Ural</td>\n",
       "      <td>Активация  кода</td>\n",
       "    </tr>\n",
       "    <tr>\n",
       "      <th>662</th>\n",
       "      <td>23</td>\n",
       "      <td>2018-06-07  00:00:00</td>\n",
       "      <td>356</td>\n",
       "      <td>Volga</td>\n",
       "      <td>Активация  кода</td>\n",
       "    </tr>\n",
       "  </tbody>\n",
       "</table>\n",
       "<p>663 rows × 5 columns</p>\n",
       "</div>"
      ],
      "text/plain": [
       "     Week                   Date  Event_Count FederalDistrict_Name  \\\n",
       "0      18  2018-05-01  00:00:00           117             Central    \n",
       "1      18  2018-05-01  00:00:00             1        Far  Eastern    \n",
       "2      18  2018-05-01  00:00:00            10    North  Caucasian    \n",
       "3      18  2018-05-01  00:00:00            20        Northwestern    \n",
       "4      18  2018-05-01  00:00:00             5            Siberian    \n",
       "..    ...                    ...          ...                  ...   \n",
       "658    23  2018-06-07  00:00:00           149            Siberian    \n",
       "659    23  2018-06-07  00:00:00           170            Southern    \n",
       "660    23  2018-06-07  00:00:00            14           Undefined    \n",
       "661    23  2018-06-07  00:00:00           138                Ural    \n",
       "662    23  2018-06-07  00:00:00           356               Volga    \n",
       "\n",
       "                    Event_Name  \n",
       "0    Регистрация  пользователя  \n",
       "1    Регистрация  пользователя  \n",
       "2    Регистрация  пользователя  \n",
       "3    Регистрация  пользователя  \n",
       "4    Регистрация  пользователя  \n",
       "..                         ...  \n",
       "658            Активация  кода  \n",
       "659            Активация  кода  \n",
       "660            Активация  кода  \n",
       "661            Активация  кода  \n",
       "662            Активация  кода  \n",
       "\n",
       "[663 rows x 5 columns]"
      ]
     },
     "execution_count": 3,
     "metadata": {},
     "output_type": "execute_result"
    }
   ],
   "source": [
    "df = pd.read_csv('data/test_data_clean.csv')\n",
    "df"
   ]
  },
  {
   "cell_type": "code",
   "execution_count": 6,
   "id": "28da56cc-3a33-4b05-b63e-80a974093706",
   "metadata": {
    "scrolled": true
   },
   "outputs": [
    {
     "data": {
      "text/plain": [
       "0     2018-05-01\n",
       "1     2018-05-01\n",
       "2     2018-05-01\n",
       "3     2018-05-01\n",
       "4     2018-05-01\n",
       "         ...    \n",
       "658   2018-06-07\n",
       "659   2018-06-07\n",
       "660   2018-06-07\n",
       "661   2018-06-07\n",
       "662   2018-06-07\n",
       "Name: Date, Length: 663, dtype: datetime64[ns]"
      ]
     },
     "execution_count": 6,
     "metadata": {},
     "output_type": "execute_result"
    }
   ],
   "source": [
    "df.Date = pd.to_datetime(df.Date)\n",
    "df.Date"
   ]
  },
  {
   "cell_type": "code",
   "execution_count": 7,
   "id": "86000ae5-f410-415b-95f8-f75597404fdd",
   "metadata": {},
   "outputs": [
    {
     "data": {
      "text/plain": [
       "0               Central\n",
       "1          Far  Eastern\n",
       "2      North  Caucasian\n",
       "3          Northwestern\n",
       "4              Siberian\n",
       "             ...       \n",
       "658            Siberian\n",
       "659            Southern\n",
       "660           Undefined\n",
       "661                Ural\n",
       "662               Volga\n",
       "Name: FederalDistrict_Name, Length: 663, dtype: object"
      ]
     },
     "execution_count": 7,
     "metadata": {},
     "output_type": "execute_result"
    }
   ],
   "source": [
    "df.FederalDistrict_Name.apply(lambda x: x[:-1])"
   ]
  },
  {
   "cell_type": "code",
   "execution_count": 8,
   "id": "7aaabccc-bcb5-4698-b25d-443281795efe",
   "metadata": {},
   "outputs": [
    {
     "data": {
      "text/plain": [
       "0               Central \n",
       "1          Far  Eastern \n",
       "2      North  Caucasian \n",
       "3          Northwestern \n",
       "4              Siberian \n",
       "             ...        \n",
       "658            Siberian \n",
       "659            Southern \n",
       "660           Undefined \n",
       "661                Ural \n",
       "662               Volga \n",
       "Name: FederalDistrict_Name, Length: 663, dtype: object"
      ]
     },
     "execution_count": 8,
     "metadata": {},
     "output_type": "execute_result"
    }
   ],
   "source": [
    "df.FederalDistrict_Name"
   ]
  },
  {
   "cell_type": "code",
   "execution_count": null,
   "id": "ab750d23-9aad-458b-804e-2471b6210779",
   "metadata": {},
   "outputs": [],
   "source": []
  }
 ],
 "metadata": {
  "kernelspec": {
   "display_name": "Python 3 (ipykernel)",
   "language": "python",
   "name": "python3"
  },
  "language_info": {
   "codemirror_mode": {
    "name": "ipython",
    "version": 3
   },
   "file_extension": ".py",
   "mimetype": "text/x-python",
   "name": "python",
   "nbconvert_exporter": "python",
   "pygments_lexer": "ipython3",
   "version": "3.10.12"
  }
 },
 "nbformat": 4,
 "nbformat_minor": 5
}
